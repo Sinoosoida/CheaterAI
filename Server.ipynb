{
 "cells": [
  {
   "cell_type": "code",
   "execution_count": 9,
   "id": "a1c9afa8-2a23-45c6-9982-aac804ba865f",
   "metadata": {},
   "outputs": [
    {
     "name": "stdout",
     "output_type": "stream",
     "text": [
      "Defaulting to user installation because normal site-packages is not writeable\n",
      "Requirement already satisfied: faster-whisper in /home/bohonkomi/.local/lib/python3.10/site-packages (0.9.0)\n",
      "Requirement already satisfied: av==10.* in /home/bohonkomi/.local/lib/python3.10/site-packages (from faster-whisper) (10.0.0)\n",
      "Requirement already satisfied: ctranslate2<4,>=3.17 in /home/bohonkomi/.local/lib/python3.10/site-packages (from faster-whisper) (3.22.0)\n",
      "Requirement already satisfied: huggingface-hub>=0.13 in /home/bohonkomi/.local/lib/python3.10/site-packages (from faster-whisper) (0.17.3)\n",
      "Requirement already satisfied: tokenizers<0.15,>=0.13 in /home/bohonkomi/.local/lib/python3.10/site-packages (from faster-whisper) (0.13.3)\n",
      "Requirement already satisfied: onnxruntime<2,>=1.14 in /home/bohonkomi/.local/lib/python3.10/site-packages (from faster-whisper) (1.16.0)\n",
      "Requirement already satisfied: setuptools in /usr/lib/python3/dist-packages (from ctranslate2<4,>=3.17->faster-whisper) (59.6.0)\n",
      "Requirement already satisfied: numpy in /home/bohonkomi/.local/lib/python3.10/site-packages (from ctranslate2<4,>=3.17->faster-whisper) (1.24.3)\n",
      "Requirement already satisfied: pyyaml<7,>=5.3 in /home/bohonkomi/.local/lib/python3.10/site-packages (from ctranslate2<4,>=3.17->faster-whisper) (6.0.1)\n",
      "Requirement already satisfied: filelock in /home/bohonkomi/.local/lib/python3.10/site-packages (from huggingface-hub>=0.13->faster-whisper) (3.12.4)\n",
      "Requirement already satisfied: fsspec in /home/bohonkomi/.local/lib/python3.10/site-packages (from huggingface-hub>=0.13->faster-whisper) (2023.6.0)\n",
      "Requirement already satisfied: requests in /home/bohonkomi/.local/lib/python3.10/site-packages (from huggingface-hub>=0.13->faster-whisper) (2.31.0)\n",
      "Requirement already satisfied: tqdm>=4.42.1 in /home/bohonkomi/.local/lib/python3.10/site-packages (from huggingface-hub>=0.13->faster-whisper) (4.66.1)\n",
      "Requirement already satisfied: typing-extensions>=3.7.4.3 in /home/bohonkomi/.local/lib/python3.10/site-packages (from huggingface-hub>=0.13->faster-whisper) (4.8.0)\n",
      "Requirement already satisfied: packaging>=20.9 in /home/bohonkomi/.local/lib/python3.10/site-packages (from huggingface-hub>=0.13->faster-whisper) (23.1)\n",
      "Requirement already satisfied: coloredlogs in /home/bohonkomi/.local/lib/python3.10/site-packages (from onnxruntime<2,>=1.14->faster-whisper) (15.0.1)\n",
      "Requirement already satisfied: flatbuffers in /home/bohonkomi/.local/lib/python3.10/site-packages (from onnxruntime<2,>=1.14->faster-whisper) (23.5.26)\n",
      "Requirement already satisfied: protobuf in /home/bohonkomi/.local/lib/python3.10/site-packages (from onnxruntime<2,>=1.14->faster-whisper) (4.24.3)\n",
      "Requirement already satisfied: sympy in /home/bohonkomi/.local/lib/python3.10/site-packages (from onnxruntime<2,>=1.14->faster-whisper) (1.12)\n",
      "Requirement already satisfied: humanfriendly>=9.1 in /home/bohonkomi/.local/lib/python3.10/site-packages (from coloredlogs->onnxruntime<2,>=1.14->faster-whisper) (10.0)\n",
      "Requirement already satisfied: charset-normalizer<4,>=2 in /home/bohonkomi/.local/lib/python3.10/site-packages (from requests->huggingface-hub>=0.13->faster-whisper) (3.2.0)\n",
      "Requirement already satisfied: idna<4,>=2.5 in /home/bohonkomi/.local/lib/python3.10/site-packages (from requests->huggingface-hub>=0.13->faster-whisper) (3.4)\n",
      "Requirement already satisfied: urllib3<3,>=1.21.1 in /home/bohonkomi/.local/lib/python3.10/site-packages (from requests->huggingface-hub>=0.13->faster-whisper) (1.26.17)\n",
      "Requirement already satisfied: certifi>=2017.4.17 in /home/bohonkomi/.local/lib/python3.10/site-packages (from requests->huggingface-hub>=0.13->faster-whisper) (2023.7.22)\n",
      "Requirement already satisfied: mpmath>=0.19 in /home/bohonkomi/.local/lib/python3.10/site-packages (from sympy->onnxruntime<2,>=1.14->faster-whisper) (1.3.0)\n"
     ]
    }
   ],
   "source": [
    "!pip install faster-whisper"
   ]
  },
  {
   "cell_type": "code",
   "execution_count": 10,
   "id": "b7f19d6a-5c54-407e-9fb0-872945c8c775",
   "metadata": {},
   "outputs": [
    {
     "name": "stdout",
     "output_type": "stream",
     "text": [
      "Defaulting to user installation because normal site-packages is not writeable\n",
      "Requirement already satisfied: opus-fast-mosestokenizer in /home/bohonkomi/.local/lib/python3.10/site-packages (0.0.8.5)\n"
     ]
    }
   ],
   "source": [
    "!pip install opus-fast-mosestokenizer"
   ]
  },
  {
   "cell_type": "code",
   "execution_count": 6,
   "id": "87f7bfe6-8029-4314-a687-85c92ed81f6a",
   "metadata": {},
   "outputs": [
    {
     "name": "stdout",
     "output_type": "stream",
     "text": [
      "Defaulting to user installation because normal site-packages is not writeable\n",
      "Collecting opus-fast-mosestokenizer\n",
      "  Downloading opus_fast_mosestokenizer-0.0.8.5-cp310-cp310-manylinux1_x86_64.whl.metadata (3.6 kB)\n",
      "Downloading opus_fast_mosestokenizer-0.0.8.5-cp310-cp310-manylinux1_x86_64.whl (837 kB)\n",
      "\u001b[2K   \u001b[90m━━━━━━━━━━━━━━━━━━━━━━━━━━━━━━━━━━━━━━━━\u001b[0m \u001b[32m837.2/837.2 kB\u001b[0m \u001b[31m5.2 MB/s\u001b[0m eta \u001b[36m0:00:00\u001b[0m00:01\u001b[0m00:01\u001b[0m\n",
      "\u001b[?25hInstalling collected packages: opus-fast-mosestokenizer\n",
      "Successfully installed opus-fast-mosestokenizer-0.0.8.5\n"
     ]
    }
   ],
   "source": [
    "!pip install opus-fast-mosestokenizer"
   ]
  },
  {
   "cell_type": "markdown",
   "id": "cd1b54b2-999e-4a52-8a01-deea9241abd0",
   "metadata": {},
   "source": [
    "To chose a better GPU "
   ]
  },
  {
   "cell_type": "code",
   "execution_count": 1,
   "id": "5cdbd5ec-1261-4d38-8660-667d9d85bfbe",
   "metadata": {},
   "outputs": [
    {
     "name": "stdout",
     "output_type": "stream",
     "text": [
      "GPU с наибольшим количеством свободной памяти (кроме GPU 6): 1\n"
     ]
    }
   ],
   "source": [
    "import GPUtil\n",
    "\n",
    "gpu_num = None\n",
    "\n",
    "# Получение списка GPU\n",
    "gpus = GPUtil.getGPUs()\n",
    "\n",
    "# Фильтрация списка GPU, исключая GPU с ID 6\n",
    "filtered_gpus = [gpu for gpu in gpus if gpu.id != '6']\n",
    "\n",
    "# Если отфильтрованные GPU не найдены, выводим сообщение об этом\n",
    "if not filtered_gpus:\n",
    "    print(\"GPU, подходящих под условия, не обнаружено.\")\n",
    "else:\n",
    "    # Находим GPU с наибольшим количеством свободной памяти среди отфильтрованных\n",
    "    max_memory_gpu = max(filtered_gpus, key=lambda gpu: gpu.memoryFree)\n",
    "    print(f\"GPU с наибольшим количеством свободной памяти (кроме GPU 6): {max_memory_gpu.id}\")\n",
    "    gpu_num = max_memory_gpu.id"
   ]
  },
  {
   "cell_type": "code",
   "execution_count": 2,
   "id": "4f849167-3aa0-49c4-b8c4-7130ddec6989",
   "metadata": {},
   "outputs": [],
   "source": [
    "import os\n",
    "os.environ[\"CUDA_VISIBLE_DEVICES\"] = str(gpu_num)"
   ]
  },
  {
   "cell_type": "markdown",
   "id": "04228657-bfd1-42a4-85fa-ca9511d7411f",
   "metadata": {},
   "source": [
    "Realtime whisper server"
   ]
  },
  {
   "cell_type": "code",
   "execution_count": 10,
   "id": "5f032c53-f649-44fb-add2-8adc5661fc5a",
   "metadata": {},
   "outputs": [
    {
     "name": "stdout",
     "output_type": "stream",
     "text": [
      "Connected by ('127.0.0.1', 55274)\n"
     ]
    },
    {
     "ename": "AttributeError",
     "evalue": "'str' object has no attribute 'sep'",
     "output_type": "error",
     "traceback": [
      "\u001b[0;31m---------------------------------------------------------------------------\u001b[0m",
      "\u001b[0;31mAttributeError\u001b[0m                            Traceback (most recent call last)",
      "Cell \u001b[0;32mIn[10], line 38\u001b[0m\n\u001b[1;32m     36\u001b[0m                 data \u001b[38;5;241m=\u001b[39m data\u001b[38;5;241m.\u001b[39mastype(np\u001b[38;5;241m.\u001b[39mfloat32)\u001b[38;5;241m/\u001b[39m(\u001b[38;5;241m2\u001b[39m\u001b[38;5;241m*\u001b[39m\u001b[38;5;241m*\u001b[39m(\u001b[38;5;241m2\u001b[39m\u001b[38;5;241m*\u001b[39m\u001b[38;5;241m8\u001b[39m\u001b[38;5;241m-\u001b[39m\u001b[38;5;241m1\u001b[39m))\n\u001b[1;32m     37\u001b[0m                 online\u001b[38;5;241m.\u001b[39minsert_audio_chunk(data)\n\u001b[0;32m---> 38\u001b[0m                 o \u001b[38;5;241m=\u001b[39m \u001b[43monline\u001b[49m\u001b[38;5;241;43m.\u001b[39;49m\u001b[43mprocess_iter\u001b[49m\u001b[43m(\u001b[49m\u001b[43m)\u001b[49m\n\u001b[1;32m     39\u001b[0m                 \u001b[38;5;28mprint\u001b[39m(o) \u001b[38;5;66;03m# do something with current partial output\u001b[39;00m\n\u001b[1;32m     41\u001b[0m \u001b[38;5;66;03m# at the end of this audio processing\u001b[39;00m\n",
      "File \u001b[0;32m~/sobes/whisper_online.py:258\u001b[0m, in \u001b[0;36mOnlineASRProcessor.process_iter\u001b[0;34m(self)\u001b[0m\n\u001b[1;32m    252\u001b[0m \u001b[38;5;28;01mdef\u001b[39;00m \u001b[38;5;21mprocess_iter\u001b[39m(\u001b[38;5;28mself\u001b[39m):\n\u001b[1;32m    253\u001b[0m \u001b[38;5;250m    \u001b[39m\u001b[38;5;124;03m\"\"\"Runs on the current audio buffer.\u001b[39;00m\n\u001b[1;32m    254\u001b[0m \u001b[38;5;124;03m    Returns: a tuple (beg_timestamp, end_timestamp, \"text\"), or (None, None, \"\"). \u001b[39;00m\n\u001b[1;32m    255\u001b[0m \u001b[38;5;124;03m    The non-emty text is confirmed (commited) partial transcript.\u001b[39;00m\n\u001b[1;32m    256\u001b[0m \u001b[38;5;124;03m    \"\"\"\u001b[39;00m\n\u001b[0;32m--> 258\u001b[0m     prompt, non_prompt \u001b[38;5;241m=\u001b[39m \u001b[38;5;28;43mself\u001b[39;49m\u001b[38;5;241;43m.\u001b[39;49m\u001b[43mprompt\u001b[49m\u001b[43m(\u001b[49m\u001b[43m)\u001b[49m\n\u001b[1;32m    259\u001b[0m     \u001b[38;5;28mprint\u001b[39m(\u001b[38;5;124m\"\u001b[39m\u001b[38;5;124mPROMPT:\u001b[39m\u001b[38;5;124m\"\u001b[39m, prompt, file\u001b[38;5;241m=\u001b[39msys\u001b[38;5;241m.\u001b[39mstderr)\n\u001b[1;32m    260\u001b[0m     \u001b[38;5;28mprint\u001b[39m(\u001b[38;5;124m\"\u001b[39m\u001b[38;5;124mCONTEXT:\u001b[39m\u001b[38;5;124m\"\u001b[39m, non_prompt, file\u001b[38;5;241m=\u001b[39msys\u001b[38;5;241m.\u001b[39mstderr)\n",
      "File \u001b[0;32m~/sobes/whisper_online.py:250\u001b[0m, in \u001b[0;36mOnlineASRProcessor.prompt\u001b[0;34m(self)\u001b[0m\n\u001b[1;32m    248\u001b[0m     prompt\u001b[38;5;241m.\u001b[39mappend(x)\n\u001b[1;32m    249\u001b[0m non_prompt \u001b[38;5;241m=\u001b[39m \u001b[38;5;28mself\u001b[39m\u001b[38;5;241m.\u001b[39mcommited[k:]\n\u001b[0;32m--> 250\u001b[0m \u001b[38;5;28;01mreturn\u001b[39;00m \u001b[38;5;28;43mself\u001b[39;49m\u001b[38;5;241;43m.\u001b[39;49m\u001b[43masr\u001b[49m\u001b[38;5;241;43m.\u001b[39;49m\u001b[43msep\u001b[49m\u001b[38;5;241m.\u001b[39mjoin(prompt[::\u001b[38;5;241m-\u001b[39m\u001b[38;5;241m1\u001b[39m]), \u001b[38;5;28mself\u001b[39m\u001b[38;5;241m.\u001b[39masr\u001b[38;5;241m.\u001b[39msep\u001b[38;5;241m.\u001b[39mjoin(t \u001b[38;5;28;01mfor\u001b[39;00m _,_,t \u001b[38;5;129;01min\u001b[39;00m non_prompt)\n",
      "\u001b[0;31mAttributeError\u001b[0m: 'str' object has no attribute 'sep'"
     ]
    }
   ],
   "source": [
    "import socket\n",
    "import threading\n",
    "from pydub import AudioSegment\n",
    "from pydub.playback import play\n",
    "import io\n",
    "import pyaudio\n",
    "import time\n",
    "from whisper_online import *\n",
    "\n",
    "src_lan = \"ru\"  # source language\n",
    "tgt_lan = \"ru\"  # target language  -- same as source for ASR, \"en\" if translate task is used\n",
    "\n",
    "host=\"127.0.0.1\"\n",
    "port=65432\n",
    "\n",
    "asr = FasterWhisperASR(\"ru\", \"large-v2\")  # loads and wraps Whisper model\n",
    "# set options:\n",
    "# asr.set_translate_task()  # it will translate from lan into English\n",
    "# asr.use_vad()  # set using VAD \n",
    "\n",
    "\n",
    "online = OnlineASRProcessor(tgt_lan, asr)  # create processing object\n",
    "\n",
    "with socket.socket(socket.AF_INET, socket.SOCK_STREAM) as s:\n",
    "    s.bind((host, port))\n",
    "    s.listen()\n",
    "    conn, addr = s.accept()\n",
    "    with conn:\n",
    "        print(f\"Connected by {addr}\")\n",
    "        while True:\n",
    "            data = conn.recv(16000)\n",
    "            if not data:\n",
    "                break\n",
    "            else:\n",
    "                data = np.frombuffer(data, dtype=np.int16)\n",
    "                data = data.astype(np.float32)/(2**(2*8-1))\n",
    "                online.insert_audio_chunk(data)\n",
    "                o = online.process_iter()\n",
    "                print(o) # do something with current partial output\n",
    "            \n",
    "# at the end of this audio processing\n",
    "o = online.finish()\n",
    "print(o)  # do something with the last output\n",
    "\n",
    "\n",
    "online.init()  # refresh if you're going to re-use the object for the next audio"
   ]
  },
  {
   "cell_type": "markdown",
   "id": "f6061219-344d-4303-91c7-519eb120e949",
   "metadata": {},
   "source": [
    "Test server"
   ]
  },
  {
   "cell_type": "code",
   "execution_count": 2,
   "id": "96f94653-ef9b-47b9-a40b-eebb954197eb",
   "metadata": {},
   "outputs": [
    {
     "ename": "KeyboardInterrupt",
     "evalue": "",
     "output_type": "error",
     "traceback": [
      "\u001b[0;31m---------------------------------------------------------------------------\u001b[0m",
      "\u001b[0;31mKeyboardInterrupt\u001b[0m                         Traceback (most recent call last)",
      "Cell \u001b[0;32mIn[2], line 26\u001b[0m\n\u001b[1;32m     23\u001b[0m                     \u001b[38;5;28mprint\u001b[39m(\u001b[38;5;124m\"\u001b[39m\u001b[38;5;124mЕсть звук!\u001b[39m\u001b[38;5;124m\"\u001b[39m)\n\u001b[1;32m     25\u001b[0m \u001b[38;5;28;01mif\u001b[39;00m \u001b[38;5;18m__name__\u001b[39m \u001b[38;5;241m==\u001b[39m \u001b[38;5;124m\"\u001b[39m\u001b[38;5;124m__main__\u001b[39m\u001b[38;5;124m\"\u001b[39m:\n\u001b[0;32m---> 26\u001b[0m     \u001b[43mstart_server\u001b[49m\u001b[43m(\u001b[49m\u001b[43m)\u001b[49m\n",
      "Cell \u001b[0;32mIn[2], line 13\u001b[0m, in \u001b[0;36mstart_server\u001b[0;34m(host, port)\u001b[0m\n\u001b[1;32m     11\u001b[0m s\u001b[38;5;241m.\u001b[39mbind((host, port))\n\u001b[1;32m     12\u001b[0m s\u001b[38;5;241m.\u001b[39mlisten()\n\u001b[0;32m---> 13\u001b[0m conn, addr \u001b[38;5;241m=\u001b[39m \u001b[43ms\u001b[49m\u001b[38;5;241;43m.\u001b[39;49m\u001b[43maccept\u001b[49m\u001b[43m(\u001b[49m\u001b[43m)\u001b[49m\n\u001b[1;32m     14\u001b[0m \u001b[38;5;28;01mwith\u001b[39;00m conn:\n\u001b[1;32m     15\u001b[0m     \u001b[38;5;28mprint\u001b[39m(\u001b[38;5;124mf\u001b[39m\u001b[38;5;124m\"\u001b[39m\u001b[38;5;124mConnected by \u001b[39m\u001b[38;5;132;01m{\u001b[39;00maddr\u001b[38;5;132;01m}\u001b[39;00m\u001b[38;5;124m\"\u001b[39m)\n",
      "File \u001b[0;32m/usr/lib/python3.10/socket.py:293\u001b[0m, in \u001b[0;36msocket.accept\u001b[0;34m(self)\u001b[0m\n\u001b[1;32m    286\u001b[0m \u001b[38;5;28;01mdef\u001b[39;00m \u001b[38;5;21maccept\u001b[39m(\u001b[38;5;28mself\u001b[39m):\n\u001b[1;32m    287\u001b[0m \u001b[38;5;250m    \u001b[39m\u001b[38;5;124;03m\"\"\"accept() -> (socket object, address info)\u001b[39;00m\n\u001b[1;32m    288\u001b[0m \n\u001b[1;32m    289\u001b[0m \u001b[38;5;124;03m    Wait for an incoming connection.  Return a new socket\u001b[39;00m\n\u001b[1;32m    290\u001b[0m \u001b[38;5;124;03m    representing the connection, and the address of the client.\u001b[39;00m\n\u001b[1;32m    291\u001b[0m \u001b[38;5;124;03m    For IP sockets, the address info is a pair (hostaddr, port).\u001b[39;00m\n\u001b[1;32m    292\u001b[0m \u001b[38;5;124;03m    \"\"\"\u001b[39;00m\n\u001b[0;32m--> 293\u001b[0m     fd, addr \u001b[38;5;241m=\u001b[39m \u001b[38;5;28;43mself\u001b[39;49m\u001b[38;5;241;43m.\u001b[39;49m\u001b[43m_accept\u001b[49m\u001b[43m(\u001b[49m\u001b[43m)\u001b[49m\n\u001b[1;32m    294\u001b[0m     sock \u001b[38;5;241m=\u001b[39m socket(\u001b[38;5;28mself\u001b[39m\u001b[38;5;241m.\u001b[39mfamily, \u001b[38;5;28mself\u001b[39m\u001b[38;5;241m.\u001b[39mtype, \u001b[38;5;28mself\u001b[39m\u001b[38;5;241m.\u001b[39mproto, fileno\u001b[38;5;241m=\u001b[39mfd)\n\u001b[1;32m    295\u001b[0m     \u001b[38;5;66;03m# Issue #7995: if no default timeout is set and the listening\u001b[39;00m\n\u001b[1;32m    296\u001b[0m     \u001b[38;5;66;03m# socket had a (non-zero) timeout, force the new socket in blocking\u001b[39;00m\n\u001b[1;32m    297\u001b[0m     \u001b[38;5;66;03m# mode to override platform-specific socket flags inheritance.\u001b[39;00m\n",
      "\u001b[0;31mKeyboardInterrupt\u001b[0m: "
     ]
    }
   ],
   "source": [
    "import socket\n",
    "import numpy as np\n",
    "\n",
    "def is_silent(data, threshold=500):\n",
    "    \"\"\"Определение тишины в аудиопотоке.\"\"\"\n",
    "    amplitudes = np.frombuffer(data, dtype=np.int16)\n",
    "    return np.abs(amplitudes).mean() < threshold\n",
    "\n",
    "def start_server(host=\"127.0.0.1\", port=65432):\n",
    "    with socket.socket(socket.AF_INET, socket.SOCK_STREAM) as s:\n",
    "        s.bind((host, port))\n",
    "        s.listen()\n",
    "        conn, addr = s.accept()\n",
    "        with conn:\n",
    "            print(f\"Connected by {addr}\")\n",
    "            while True:\n",
    "                data = conn.recv(2048)\n",
    "                if not data:\n",
    "                    break\n",
    "                if is_silent(data):\n",
    "                    print(\"Тихо...\")\n",
    "                else:\n",
    "                    print(\"Есть звук!\")\n",
    "\n",
    "if __name__ == \"__main__\":\n",
    "    start_server()\n"
   ]
  },
  {
   "cell_type": "code",
   "execution_count": null,
   "id": "e6a49176-d85d-4e19-9120-8250f8879676",
   "metadata": {},
   "outputs": [],
   "source": []
  }
 ],
 "metadata": {
  "kernelspec": {
   "display_name": "Python 3 (ipykernel)",
   "language": "python",
   "name": "python3"
  },
  "language_info": {
   "codemirror_mode": {
    "name": "ipython",
    "version": 3
   },
   "file_extension": ".py",
   "mimetype": "text/x-python",
   "name": "python",
   "nbconvert_exporter": "python",
   "pygments_lexer": "ipython3",
   "version": "3.10.12"
  }
 },
 "nbformat": 4,
 "nbformat_minor": 5
}
