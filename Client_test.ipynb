{
 "cells": [
  {
   "cell_type": "markdown",
   "id": "0fd3e431-cc87-492f-9dfe-3f2ca81154d9",
   "metadata": {},
   "source": [
    "CFLAGS=\"-I/home/bohonkomi/local/include\" LDFLAGS=\"-L/home/bohonkomi/local/lib\" python3 setup.py build\n",
    "CFLAGS=\"-I/home/bohonkomi/local/include\" LDFLAGS=\"-L/home/bohonkomi/local/lib\" python3 setup.py install --user\n",
    "echo 'export LD_LIBRARY_PATH=/home/bohonkomi/local/lib:$LD_LIBRARY_PATH' >> ~/.bashrc\n",
    "export LD_LIBRARY_PATH=/home/bohonkomi/local/lib:$LD_LIBRARY_PATH\n",
    "export LD_LIBRARY_PATH=$LD_LIBRARY_PATH:/home/bohonkomi/local/lib\n"
   ]
  },
  {
   "cell_type": "code",
   "execution_count": 12,
   "id": "1cfe3857-7858-4f75-a8f2-267bcab11476",
   "metadata": {},
   "outputs": [
    {
     "ename": "SyntaxError",
     "evalue": "invalid syntax (456236839.py, line 1)",
     "output_type": "error",
     "traceback": [
      "\u001b[0;36m  Cell \u001b[0;32mIn[12], line 1\u001b[0;36m\u001b[0m\n\u001b[0;31m    Client test to emulate realtime stream\u001b[0m\n\u001b[0m           ^\u001b[0m\n\u001b[0;31mSyntaxError\u001b[0m\u001b[0;31m:\u001b[0m invalid syntax\n"
     ]
    }
   ],
   "source": [
    "Client test to emulate realtime stream"
   ]
  },
  {
   "cell_type": "code",
   "execution_count": 13,
   "id": "03807f68-e713-40fd-806f-970f7a874c42",
   "metadata": {},
   "outputs": [
    {
     "name": "stdout",
     "output_type": "stream",
     "text": [
      "<class 'bytes'>\n"
     ]
    },
    {
     "name": "stderr",
     "output_type": "stream",
     "text": [
      "Exception in thread Thread-14 (send_audio):\n",
      "Traceback (most recent call last):\n",
      "  File \"/usr/lib/python3.10/threading.py\", line 1016, in _bootstrap_inner\n",
      "    self.run()\n",
      "  File \"/usr/lib/python3.10/threading.py\", line 953, in run\n",
      "    self._target(*self._args, **self._kwargs)\n",
      "  File \"/tmp/ipykernel_55983/4235108401.py\", line 21, in send_audio\n",
      "ConnectionRefusedError: [Errno 111] Connection refused\n"
     ]
    }
   ],
   "source": [
    "import socket\n",
    "import threading\n",
    "from pydub import AudioSegment\n",
    "from pydub.playback import play\n",
    "import io\n",
    "import pyaudio\n",
    "import time\n",
    "\n",
    "# Параметры аудио\n",
    "FORMAT = pyaudio.paInt16\n",
    "CHANNELS = 1\n",
    "RATE = 16000\n",
    "CHUNK = 16000\n",
    "\n",
    "# Длительность одного чанка в секундах\n",
    "CHUNK_DURATION = CHUNK / RATE\n",
    "\n",
    "# Функция для отправки аудио на сервер\n",
    "def send_audio(host=\"127.0.0.1\", port=65432, audio_data=b''):\n",
    "    with socket.socket(socket.AF_INET, socket.SOCK_STREAM) as s:\n",
    "        s.connect((host, port))\n",
    "        print(\"Начало отправки аудио...\")\n",
    "        stream = io.BytesIO(audio_data)\n",
    "        try:\n",
    "            while True:\n",
    "                chunk = stream.read(CHUNK)\n",
    "                if not chunk:\n",
    "                    break\n",
    "                s.sendall(chunk)\n",
    "                time.sleep(CHUNK_DURATION)  # Добавление задержки\n",
    "        except KeyboardInterrupt:\n",
    "            print(\"Отправка остановлена.\")\n",
    "\n",
    "# Функция для воспроизведения аудио\n",
    "def play_audio(audio_segment):\n",
    "    play(audio_segment)\n",
    "\n",
    "# Загрузка и преобразование аудиофайла\n",
    "audio_segment = AudioSegment.from_file(\"./audio.mp3\")\n",
    "audio_segment = audio_segment.set_frame_rate(RATE).set_channels(CHANNELS)\n",
    "\n",
    "print(type(audio_data))\n",
    "# Преобразование аудиосегмента в байты\n",
    "audio_data = audio_segment.raw_data\n",
    "\n",
    "# Запуск потока для отправки аудио\n",
    "send_thread = threading.Thread(target=send_audio, args=(\"127.0.0.1\", 65432, audio_data))\n",
    "send_thread.start()\n",
    "\n",
    "# # Воспроизведение аудио\n",
    "# Не работает на сервере\n",
    "# play_audio(audio_segment)\n"
   ]
  },
  {
   "cell_type": "code",
   "execution_count": null,
   "id": "0109e9d7-94d1-4758-a7a7-3c06cf69bbd4",
   "metadata": {},
   "outputs": [],
   "source": []
  }
 ],
 "metadata": {
  "kernelspec": {
   "display_name": "Python 3 (ipykernel)",
   "language": "python",
   "name": "python3"
  },
  "language_info": {
   "codemirror_mode": {
    "name": "ipython",
    "version": 3
   },
   "file_extension": ".py",
   "mimetype": "text/x-python",
   "name": "python",
   "nbconvert_exporter": "python",
   "pygments_lexer": "ipython3",
   "version": "3.10.12"
  }
 },
 "nbformat": 4,
 "nbformat_minor": 5
}
